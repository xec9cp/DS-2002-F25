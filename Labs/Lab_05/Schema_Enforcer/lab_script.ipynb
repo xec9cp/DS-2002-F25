{
 "cells": [
  {
   "cell_type": "markdown",
   "id": "f22603ac",
   "metadata": {},
   "source": [
    "Task 1"
   ]
  },
  {
   "cell_type": "code",
   "execution_count": 3,
   "id": "4bd595a6",
   "metadata": {},
   "outputs": [],
   "source": [
    "import csv\n",
    "\n",
    "data = [\n",
    "    # student_id, major, GPA, is_cs_major, credits_taken\n",
    "    [1, \"Computer Science\", 3.5, \"Yes\", \"12.0\"],     # float GPA, credits as float string, \"Yes\"\n",
    "    [2, \"Mathematics\", 3, \"No\", \"10.5\"],             # int GPA, \"No\"\n",
    "    [3, \"Biology\", 2.8, \"No\", \"15\"],                 # int string credits, \"No\"\n",
    "    [4, \"CS\", 4, \"Yes\", \"18.0\"],                     # int GPA, credits as float string, \"Yes\"\n",
    "    [5, \"Statistics\", 3.25, \"No\", \"20.5\"]            # float GPA, credits as float string, \"Yes\"\n",
    "]\n",
    "\n",
    "headers = [\"student_id\", \"major\", \"GPA\", \"is_cs_major\", \"credits_taken\"]"
   ]
  },
  {
   "cell_type": "code",
   "execution_count": null,
   "id": "867d9506",
   "metadata": {},
   "outputs": [],
   "source": [
    "with open(\"raw_survey_data.csv\", \"w\", newline=\"\") as f:\n",
    "    writer = csv.writer(f)\n",
    "    writer.writerow(headers)  # header row\n",
    "    writer.writerows(data)    # actual data"
   ]
  },
  {
   "cell_type": "markdown",
   "id": "8cc05da9",
   "metadata": {},
   "source": [
    "Task 2"
   ]
  },
  {
   "cell_type": "code",
   "execution_count": 16,
   "id": "31872e99",
   "metadata": {},
   "outputs": [],
   "source": [
    "raw_course_catalog = [\n",
    "  {\n",
    "    \"course_id\": \"DS2002\",\n",
    "    \"section\": \"001\",\n",
    "    \"title\": \"Data Science Systems\",\n",
    "    \"level\": 200,\n",
    "    \"instructors\": [\n",
    "      {\"name\": \"Austin Rivera\", \"role\": \"Primary\"}, \n",
    "      {\"name\": \"Heywood Williams-Tracy\", \"role\": \"TA\"} \n",
    "    ]\n",
    "  },\n",
    "  {\n",
    "    \"course_id\": \"DS3001\",\n",
    "    \"title\": \"Foundation of Machine Learning\",\n",
    "    \"section\": \"001\",\n",
    "    \"level\": 300,\n",
    "    \"instructors\": [\n",
    "      {\"name\": \"Lei Li\", \"role\": \"Primary\"},\n",
    "      {\"name\": \"Eva Mai Winston\", \"role\": \"Grader\"}\n",
    "    ]\n",
    "  },\n",
    "  {\n",
    "    \"course_id\": \"STAT4170\",\n",
    "    \"section\": \"002\",\n",
    "    \"title\": \"Financial Time Series\",\n",
    "    \"level\": 400,\n",
    "    \"instructors\": [\n",
    "      {\"name\": \"Jeffrey Woo\", \"role\": \"Primary\"}, \n",
    "      {\"name\": \"\", \"role\": \"TA\"} \n",
    "    ]\n",
    "  },\n",
    "  {\n",
    "    \"course_id\": \"MUEN3631\",\n",
    "    \"title\": \"Flute Ensemble\",\n",
    "    \"level\": 300,\n",
    "    \"instructors\": [\n",
    "      {\"name\": \"Kelly Sulick\", \"role\": \"Primary\"}\n",
    "    ]\n",
    "  },\n",
    "  {\n",
    "    \"course_id\": \"MATH2310\",\n",
    "    \"section\": \"200\",\n",
    "    \"title\": \"Calculus III\",\n",
    "    \"level\": 200,\n",
    "    \"instructors\": [\n",
    "      {\"name\": \"Daniel James\", \"role\": \"Primary\"}, \n",
    "      {\"name\": \"Shaoyi Zhang\", \"role\": \"TA\"} \n",
    "    ]\n",
    "  },\n",
    "  {\n",
    "    \"course_id\": \"GETR3710\",\n",
    "    \"title\": \"Kafka and His Doubles\",\n",
    "    \"level\": 300,\n",
    "    \"instructors\": [\n",
    "      {\"name\": \"Lorna Martens\", \"role\": \"Primary\"}\n",
    "    ]\n",
    "  }\n",
    "]"
   ]
  },
  {
   "cell_type": "code",
   "execution_count": 14,
   "id": "cf4b7589",
   "metadata": {},
   "outputs": [],
   "source": [
    "import json"
   ]
  },
  {
   "cell_type": "code",
   "execution_count": 18,
   "id": "7870aab5",
   "metadata": {},
   "outputs": [],
   "source": [
    "with open(\"raw_course_catalog.json\", 'w') as json_file:\n",
    "    json.dump(raw_course_catalog, json_file, indent=4)"
   ]
  },
  {
   "cell_type": "markdown",
   "id": "fe8d41d9",
   "metadata": {},
   "source": [
    "Task 3"
   ]
  },
  {
   "cell_type": "code",
   "execution_count": 20,
   "id": "08d17097",
   "metadata": {},
   "outputs": [],
   "source": [
    "import pandas as pd\n",
    "survey = pd.read_csv(\"raw_survey_data.csv\")"
   ]
  },
  {
   "cell_type": "code",
   "execution_count": 27,
   "id": "b477b858",
   "metadata": {},
   "outputs": [],
   "source": [
    "def clean_cat(s: pd.Series) -> pd.Series:\n",
    "    s = s.replace({\n",
    "        \"Yes\": True, \"No\": False\n",
    "    })\n",
    "    return s\n",
    "survey.is_cs_major = clean_cat(survey.is_cs_major)\n",
    "dt = {'credits_taken': 'float64', \"GPA\": 'float64'}\n",
    "survey.astype(dt)\n",
    "survey.to_csv(\"clean_survey_data.csv\", index = False)\n"
   ]
  },
  {
   "cell_type": "markdown",
   "id": "e58d9bc0",
   "metadata": {},
   "source": [
    "Task 4"
   ]
  },
  {
   "cell_type": "code",
   "execution_count": 31,
   "id": "f6f26f97",
   "metadata": {},
   "outputs": [
    {
     "name": "stdout",
     "output_type": "stream",
     "text": [
      "File 'raw_course_catalog.json' successfully loaded into a Python list.\n",
      "Loaded 6 records.\n"
     ]
    }
   ],
   "source": [
    "# Define the path to the JSON file\n",
    "FILE_PATH = \"raw_course_catalog.json\" \n",
    "\n",
    "# --- Load the JSON data from the file into a Python list ---\n",
    "try:\n",
    "    with open(FILE_PATH, 'r') as file_pointer:\n",
    "        # json.load() is used because the file is a standard list of records\n",
    "        course_list = json.load(file_pointer)\n",
    "    \n",
    "    print(f\"File '{FILE_PATH}' successfully loaded into a Python list.\")\n",
    "    print(f\"Loaded {len(course_list)} records.\")\n",
    "    \n",
    "except FileNotFoundError:\n",
    "    print(f\"ERROR: File not found at {FILE_PATH}. Please ensure the file is in the correct directory.\")\n",
    "\n",
    "# Use json_normalize to extract the list \n",
    "course_df = pd.json_normalize(course_list, record_path=['instructors'], meta=['course_id', 'title', 'level'])\n",
    "\n",
    "course_df.to_csv(\"clean_course_catalog.csv\", index = False)"
   ]
  }
 ],
 "metadata": {
  "kernelspec": {
   "display_name": "Python 3",
   "language": "python",
   "name": "python3"
  },
  "language_info": {
   "codemirror_mode": {
    "name": "ipython",
    "version": 3
   },
   "file_extension": ".py",
   "mimetype": "text/x-python",
   "name": "python",
   "nbconvert_exporter": "python",
   "pygments_lexer": "ipython3",
   "version": "3.12.1"
  }
 },
 "nbformat": 4,
 "nbformat_minor": 5
}
